{
  "nbformat": 4,
  "nbformat_minor": 0,
  "metadata": {
    "colab": {
      "name": "Untitled1.ipynb",
      "provenance": [],
      "authorship_tag": "ABX9TyNRbrRKyAU2nVudX3mDcTFY",
      "include_colab_link": true
    },
    "kernelspec": {
      "name": "python3",
      "display_name": "Python 3"
    },
    "language_info": {
      "name": "python"
    }
  },
  "cells": [
    {
      "cell_type": "markdown",
      "metadata": {
        "id": "view-in-github",
        "colab_type": "text"
      },
      "source": [
        "<a href=\"https://colab.research.google.com/github/wasilone11/Data-Science-20-Feb-Optimizing-Lending-Club-s-Financial-Risk/blob/main/Untitled1.ipynb\" target=\"_parent\"><img src=\"https://colab.research.google.com/assets/colab-badge.svg\" alt=\"Open In Colab\"/></a>"
      ]
    },
    {
      "cell_type": "code",
      "metadata": {
        "id": "pbvX6_D8mU4Q"
      },
      "source": [
        "import pandas as pd"
      ],
      "execution_count": 2,
      "outputs": []
    },
    {
      "cell_type": "code",
      "metadata": {
        "colab": {
          "base_uri": "https://localhost:8080/"
        },
        "id": "W1fe3_Q1rbQq",
        "outputId": "60da4e87-c082-4404-eca0-6d27737bf025"
      },
      "source": [
        "from google.colab import drive\n",
        "drive.mount('/content/gdrive')"
      ],
      "execution_count": 3,
      "outputs": [
        {
          "output_type": "stream",
          "text": [
            "Mounted at /content/gdrive\n"
          ],
          "name": "stdout"
        }
      ]
    },
    {
      "cell_type": "code",
      "metadata": {
        "id": "pAcS0dFdrzf6"
      },
      "source": [
        "import os\n",
        "os.environ['KAGGLE_CONFIG_DIR'] = '/content/gdrive/My Drive/kaggle'"
      ],
      "execution_count": 4,
      "outputs": []
    },
    {
      "cell_type": "code",
      "metadata": {
        "colab": {
          "base_uri": "https://localhost:8080/"
        },
        "id": "mYdtH0Oir5zZ",
        "outputId": "2e6e9e0b-87f9-45b3-c20f-815a411de479"
      },
      "source": [
        "%cd /content/gdrive/My Drive/kaggle"
      ],
      "execution_count": 5,
      "outputs": [
        {
          "output_type": "stream",
          "text": [
            "/content/gdrive/My Drive/kaggle\n"
          ],
          "name": "stdout"
        }
      ]
    },
    {
      "cell_type": "code",
      "metadata": {
        "id": "fKbEDxvnr-cI"
      },
      "source": [
        "df = pd.read_csv(\"/content/gdrive/My Drive/kaggle/Lending_Club_Loan_approval_Optimization.csv\")"
      ],
      "execution_count": 7,
      "outputs": []
    },
    {
      "cell_type": "code",
      "metadata": {
        "colab": {
          "base_uri": "https://localhost:8080/",
          "height": 204
        },
        "id": "XzobvUGRtBZm",
        "outputId": "ac7ee3d9-e02c-4871-99fd-5f9cf688002b"
      },
      "source": [
        "df.head()"
      ],
      "execution_count": 10,
      "outputs": [
        {
          "output_type": "execute_result",
          "data": {
            "text/html": [
              "<div>\n",
              "<style scoped>\n",
              "    .dataframe tbody tr th:only-of-type {\n",
              "        vertical-align: middle;\n",
              "    }\n",
              "\n",
              "    .dataframe tbody tr th {\n",
              "        vertical-align: top;\n",
              "    }\n",
              "\n",
              "    .dataframe thead th {\n",
              "        text-align: right;\n",
              "    }\n",
              "</style>\n",
              "<table border=\"1\" class=\"dataframe\">\n",
              "  <thead>\n",
              "    <tr style=\"text-align: right;\">\n",
              "      <th></th>\n",
              "      <th>Unnamed: 0</th>\n",
              "      <th>Amount Requested</th>\n",
              "      <th>Risk_Score</th>\n",
              "      <th>Debt-To-Income Ratio</th>\n",
              "      <th>Employment Length</th>\n",
              "      <th>Target</th>\n",
              "    </tr>\n",
              "  </thead>\n",
              "  <tbody>\n",
              "    <tr>\n",
              "      <th>0</th>\n",
              "      <td>0</td>\n",
              "      <td>3600.0</td>\n",
              "      <td>677.0</td>\n",
              "      <td>5.91</td>\n",
              "      <td>10</td>\n",
              "      <td>1</td>\n",
              "    </tr>\n",
              "    <tr>\n",
              "      <th>1</th>\n",
              "      <td>1</td>\n",
              "      <td>24700.0</td>\n",
              "      <td>717.0</td>\n",
              "      <td>16.06</td>\n",
              "      <td>10</td>\n",
              "      <td>1</td>\n",
              "    </tr>\n",
              "    <tr>\n",
              "      <th>2</th>\n",
              "      <td>2</td>\n",
              "      <td>20000.0</td>\n",
              "      <td>697.0</td>\n",
              "      <td>10.78</td>\n",
              "      <td>10</td>\n",
              "      <td>1</td>\n",
              "    </tr>\n",
              "    <tr>\n",
              "      <th>3</th>\n",
              "      <td>3</td>\n",
              "      <td>10400.0</td>\n",
              "      <td>697.0</td>\n",
              "      <td>25.37</td>\n",
              "      <td>3</td>\n",
              "      <td>1</td>\n",
              "    </tr>\n",
              "    <tr>\n",
              "      <th>4</th>\n",
              "      <td>4</td>\n",
              "      <td>11950.0</td>\n",
              "      <td>692.0</td>\n",
              "      <td>10.20</td>\n",
              "      <td>4</td>\n",
              "      <td>1</td>\n",
              "    </tr>\n",
              "  </tbody>\n",
              "</table>\n",
              "</div>"
            ],
            "text/plain": [
              "   Unnamed: 0  Amount Requested  ...  Employment Length  Target\n",
              "0           0            3600.0  ...                 10       1\n",
              "1           1           24700.0  ...                 10       1\n",
              "2           2           20000.0  ...                 10       1\n",
              "3           3           10400.0  ...                  3       1\n",
              "4           4           11950.0  ...                  4       1\n",
              "\n",
              "[5 rows x 6 columns]"
            ]
          },
          "metadata": {
            "tags": []
          },
          "execution_count": 10
        }
      ]
    },
    {
      "cell_type": "code",
      "metadata": {
        "colab": {
          "base_uri": "https://localhost:8080/",
          "height": 419
        },
        "id": "jkWHpKMiuZ9V",
        "outputId": "1fb5ff1b-da65-4e1f-9372-4cbeb705c03c"
      },
      "source": [
        "df.drop(columns=['Unnamed: 0'])"
      ],
      "execution_count": 11,
      "outputs": [
        {
          "output_type": "execute_result",
          "data": {
            "text/html": [
              "<div>\n",
              "<style scoped>\n",
              "    .dataframe tbody tr th:only-of-type {\n",
              "        vertical-align: middle;\n",
              "    }\n",
              "\n",
              "    .dataframe tbody tr th {\n",
              "        vertical-align: top;\n",
              "    }\n",
              "\n",
              "    .dataframe thead th {\n",
              "        text-align: right;\n",
              "    }\n",
              "</style>\n",
              "<table border=\"1\" class=\"dataframe\">\n",
              "  <thead>\n",
              "    <tr style=\"text-align: right;\">\n",
              "      <th></th>\n",
              "      <th>Amount Requested</th>\n",
              "      <th>Risk_Score</th>\n",
              "      <th>Debt-To-Income Ratio</th>\n",
              "      <th>Employment Length</th>\n",
              "      <th>Target</th>\n",
              "    </tr>\n",
              "  </thead>\n",
              "  <tbody>\n",
              "    <tr>\n",
              "      <th>0</th>\n",
              "      <td>3600.0</td>\n",
              "      <td>677.0</td>\n",
              "      <td>5.91</td>\n",
              "      <td>10</td>\n",
              "      <td>1</td>\n",
              "    </tr>\n",
              "    <tr>\n",
              "      <th>1</th>\n",
              "      <td>24700.0</td>\n",
              "      <td>717.0</td>\n",
              "      <td>16.06</td>\n",
              "      <td>10</td>\n",
              "      <td>1</td>\n",
              "    </tr>\n",
              "    <tr>\n",
              "      <th>2</th>\n",
              "      <td>20000.0</td>\n",
              "      <td>697.0</td>\n",
              "      <td>10.78</td>\n",
              "      <td>10</td>\n",
              "      <td>1</td>\n",
              "    </tr>\n",
              "    <tr>\n",
              "      <th>3</th>\n",
              "      <td>10400.0</td>\n",
              "      <td>697.0</td>\n",
              "      <td>25.37</td>\n",
              "      <td>3</td>\n",
              "      <td>1</td>\n",
              "    </tr>\n",
              "    <tr>\n",
              "      <th>4</th>\n",
              "      <td>11950.0</td>\n",
              "      <td>692.0</td>\n",
              "      <td>10.20</td>\n",
              "      <td>4</td>\n",
              "      <td>1</td>\n",
              "    </tr>\n",
              "    <tr>\n",
              "      <th>...</th>\n",
              "      <td>...</td>\n",
              "      <td>...</td>\n",
              "      <td>...</td>\n",
              "      <td>...</td>\n",
              "      <td>...</td>\n",
              "    </tr>\n",
              "    <tr>\n",
              "      <th>2072801</th>\n",
              "      <td>20000.0</td>\n",
              "      <td>680.0</td>\n",
              "      <td>45.15</td>\n",
              "      <td>0</td>\n",
              "      <td>0</td>\n",
              "    </tr>\n",
              "    <tr>\n",
              "      <th>2072802</th>\n",
              "      <td>20000.0</td>\n",
              "      <td>602.0</td>\n",
              "      <td>15.87</td>\n",
              "      <td>0</td>\n",
              "      <td>0</td>\n",
              "    </tr>\n",
              "    <tr>\n",
              "      <th>2072803</th>\n",
              "      <td>6000.0</td>\n",
              "      <td>667.0</td>\n",
              "      <td>63.74</td>\n",
              "      <td>5</td>\n",
              "      <td>0</td>\n",
              "    </tr>\n",
              "    <tr>\n",
              "      <th>2072804</th>\n",
              "      <td>3000.0</td>\n",
              "      <td>602.0</td>\n",
              "      <td>14.82</td>\n",
              "      <td>0</td>\n",
              "      <td>0</td>\n",
              "    </tr>\n",
              "    <tr>\n",
              "      <th>2072805</th>\n",
              "      <td>15000.0</td>\n",
              "      <td>621.0</td>\n",
              "      <td>35.88</td>\n",
              "      <td>0</td>\n",
              "      <td>0</td>\n",
              "    </tr>\n",
              "  </tbody>\n",
              "</table>\n",
              "<p>2072806 rows × 5 columns</p>\n",
              "</div>"
            ],
            "text/plain": [
              "         Amount Requested  Risk_Score  ...  Employment Length  Target\n",
              "0                  3600.0       677.0  ...                 10       1\n",
              "1                 24700.0       717.0  ...                 10       1\n",
              "2                 20000.0       697.0  ...                 10       1\n",
              "3                 10400.0       697.0  ...                  3       1\n",
              "4                 11950.0       692.0  ...                  4       1\n",
              "...                   ...         ...  ...                ...     ...\n",
              "2072801           20000.0       680.0  ...                  0       0\n",
              "2072802           20000.0       602.0  ...                  0       0\n",
              "2072803            6000.0       667.0  ...                  5       0\n",
              "2072804            3000.0       602.0  ...                  0       0\n",
              "2072805           15000.0       621.0  ...                  0       0\n",
              "\n",
              "[2072806 rows x 5 columns]"
            ]
          },
          "metadata": {
            "tags": []
          },
          "execution_count": 11
        }
      ]
    },
    {
      "cell_type": "code",
      "metadata": {
        "id": "j49l1CRYwL5i"
      },
      "source": [
        "from sklearn.model_selection import train_test_split \n",
        "y = df['Target'].values\n",
        "X = df[['Amount Requested', 'Risk_Score', 'Debt-To-Income Ratio', 'Employment Length' ]].values"
      ],
      "execution_count": 12,
      "outputs": []
    },
    {
      "cell_type": "code",
      "metadata": {
        "colab": {
          "base_uri": "https://localhost:8080/"
        },
        "id": "n42PcwjfxF7z",
        "outputId": "ca410289-9a32-451c-8b01-a50ab44cf9c0"
      },
      "source": [
        "X_trainval, X_test, y_trainval, y_test = train_test_split(X, y, test_size= 0.20, random_state=42, stratify=y)\n",
        "\n",
        "df_ytrain = pd.DataFrame(y_trainval)\n",
        "df_ytest = pd.DataFrame(y_test)\n",
        "\n",
        "print('In Training Split:')\n",
        "print(df_ytrain[0].value_counts())\n",
        "\n",
        "print('\\nIn Testing Split:')\n",
        "print(df_ytest[0].value_counts())"
      ],
      "execution_count": 13,
      "outputs": [
        {
          "output_type": "stream",
          "text": [
            "In Training Split:\n",
            "1    829122\n",
            "0    829122\n",
            "Name: 0, dtype: int64\n",
            "\n",
            "In Testing Split:\n",
            "1    207281\n",
            "0    207281\n",
            "Name: 0, dtype: int64\n"
          ],
          "name": "stdout"
        }
      ]
    },
    {
      "cell_type": "code",
      "metadata": {
        "id": "mQMXsTE5xOLz"
      },
      "source": [
        "from sklearn.preprocessing import StandardScaler, MinMaxScaler\n",
        "from sklearn.model_selection import cross_val_score\n",
        "from sklearn.impute import SimpleImputer\n",
        "scaler = StandardScaler().fit(X_trainval)\n",
        "X_trainval_scaled = scaler.transform(X_trainval)\n",
        "X_test_scaled = scaler.transform(X_test)"
      ],
      "execution_count": 14,
      "outputs": []
    },
    {
      "cell_type": "code",
      "metadata": {
        "colab": {
          "base_uri": "https://localhost:8080/"
        },
        "id": "6ElgHRLgxgOd",
        "outputId": "69701932-b2d2-45f8-f49c-d3fe600968aa"
      },
      "source": [
        "from sklearn.naive_bayes import GaussianNB\n",
        "from sklearn.metrics import accuracy_score\n",
        "from sklearn.metrics import confusion_matrix, precision_recall_curve, auc, roc_auc_score, roc_curve, recall_score, classification_report\n",
        "naive= GaussianNB()\n",
        "naive.fit(X_trainval_scaled, y_trainval)\n",
        "\n",
        "y_pred= naive.predict(X_test_scaled)\n",
        "\n",
        "# Summary of prediction\n",
        "print(classification_report(y_test, y_pred))\n",
        "print(confusion_matrix(y_test, y_pred))\n",
        "\n",
        "# Accuracy score\n",
        "print(\"Accuracy of the model is: \", accuracy_score(y_pred,y_test))"
      ],
      "execution_count": 25,
      "outputs": [
        {
          "output_type": "stream",
          "text": [
            "              precision    recall  f1-score   support\n",
            "\n",
            "           0       1.00      0.55      0.71    207281\n",
            "           1       0.69      1.00      0.82    207281\n",
            "\n",
            "    accuracy                           0.77    414562\n",
            "   macro avg       0.84      0.77      0.76    414562\n",
            "weighted avg       0.84      0.77      0.76    414562\n",
            "\n",
            "[[113458  93823]\n",
            " [    42 207239]]\n",
            "Accuracy of the model is:  0.7735803088560939\n"
          ],
          "name": "stdout"
        }
      ]
    },
    {
      "cell_type": "code",
      "metadata": {
        "colab": {
          "base_uri": "https://localhost:8080/"
        },
        "id": "rVLpXTHSXyvS",
        "outputId": "d9137870-cf28-4de1-9923-de2616f34211"
      },
      "source": [
        "import numpy as np\n",
        "from sklearn.preprocessing import PowerTransformer\n",
        "nb_classifier = GaussianNB()\n",
        "\n",
        "params_NB = {'var_smoothing': np.logspace(0,-9, num=100)}\n",
        "gs_NB = GridSearchCV(estimator=nb_classifier, \n",
        "                 param_grid=params_NB, \n",
        "                 cv=cv_method,   # use any cross validation technique \n",
        "                 verbose=1, \n",
        "                 scoring='accuracy') \n",
        "gs_NB.fit(X_trainval_scaled,y_trainval)\n",
        "gs_NB.best_params_\n"
      ],
      "execution_count": 41,
      "outputs": [
        {
          "output_type": "stream",
          "text": [
            "Fitting 15 folds for each of 100 candidates, totalling 1500 fits\n"
          ],
          "name": "stdout"
        },
        {
          "output_type": "stream",
          "text": [
            "[Parallel(n_jobs=1)]: Using backend SequentialBackend with 1 concurrent workers.\n",
            "[Parallel(n_jobs=1)]: Done 1500 out of 1500 | elapsed: 10.0min finished\n"
          ],
          "name": "stderr"
        },
        {
          "output_type": "execute_result",
          "data": {
            "text/plain": [
              "{'var_smoothing': 0.1}"
            ]
          },
          "metadata": {
            "tags": []
          },
          "execution_count": 41
        }
      ]
    },
    {
      "cell_type": "code",
      "metadata": {
        "colab": {
          "base_uri": "https://localhost:8080/"
        },
        "id": "XPXeL9Ywa17x",
        "outputId": "9c67790e-b66d-4a14-82ba-6dd8339fef0f"
      },
      "source": [
        "print(gs_NB.best_score_)\n"
      ],
      "execution_count": 42,
      "outputs": [
        {
          "output_type": "stream",
          "text": [
            "0.8129268065970483\n"
          ],
          "name": "stdout"
        }
      ]
    }
  ]
}